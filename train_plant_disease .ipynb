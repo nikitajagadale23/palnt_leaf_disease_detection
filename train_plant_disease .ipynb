{
 "cells": [
  {
   "cell_type": "markdown",
   "id": "b0d149a2-c3a8-4122-83be-3e207b9a7957",
   "metadata": {},
   "source": [
    "## Import libraries"
   ]
  },
  {
   "cell_type": "code",
   "execution_count": 1,
   "id": "23501712-eb39-41e2-ac28-711021bc39c0",
   "metadata": {},
   "outputs": [],
   "source": [
    "import tensorflow as tf\n",
    "import matplotlib.pyplot as plt\n",
    "import pandas as pd\n",
    "import seaborn as sns"
   ]
  },
  {
   "cell_type": "markdown",
   "id": "bff94e2c-c2e7-4d61-9e7a-aaf3092a95d2",
   "metadata": {},
   "source": [
    "## Data Preprocessing"
   ]
  },
  {
   "cell_type": "markdown",
   "id": "947fe1e6-9f55-4107-84bc-5c0d55bf177e",
   "metadata": {},
   "source": [
    "## Training Image Preprocessing"
   ]
  },
  {
   "cell_type": "code",
   "execution_count": 2,
   "id": "b5c9edf9-1a5e-41a0-88d7-aa445d174eee",
   "metadata": {},
   "outputs": [
    {
     "name": "stdout",
     "output_type": "stream",
     "text": [
      "Found 70295 files belonging to 38 classes.\n"
     ]
    }
   ],
   "source": [
    "training_set = tf.keras.utils.image_dataset_from_directory(\n",
    "    'train',\n",
    "    labels=\"inferred\",\n",
    "    label_mode=\"categorical\",\n",
    "    class_names=None,\n",
    "    color_mode=\"rgb\",\n",
    "    batch_size=32,\n",
    "    image_size=(128, 128),\n",
    "    shuffle=True,\n",
    "    seed=None,\n",
    "    validation_split=None,\n",
    "    subset=None,\n",
    "    interpolation=\"bilinear\",\n",
    "    follow_links=False,\n",
    "    crop_to_aspect_ratio=False,\n",
    ")"
   ]
  },
  {
   "cell_type": "markdown",
   "id": "bc8fa075-26e0-43a0-9859-773fc527f033",
   "metadata": {},
   "source": [
    "### Validation image processing"
   ]
  },
  {
   "cell_type": "code",
   "execution_count": 3,
   "id": "879d11d7-c412-4070-b530-ba31902d9a6c",
   "metadata": {},
   "outputs": [
    {
     "name": "stdout",
     "output_type": "stream",
     "text": [
      "Found 17572 files belonging to 38 classes.\n"
     ]
    }
   ],
   "source": [
    "validation_set = tf.keras.utils.image_dataset_from_directory(\n",
    "    'valid',\n",
    "    labels=\"inferred\",\n",
    "    label_mode=\"categorical\",\n",
    "    class_names=None,\n",
    "    color_mode=\"rgb\",\n",
    "    batch_size=32,\n",
    "    image_size=(128, 128),\n",
    "    shuffle=True,\n",
    "    seed=None,\n",
    "    validation_split=None,\n",
    "    subset=None,\n",
    "    interpolation=\"bilinear\",\n",
    "    follow_links=False,\n",
    "    crop_to_aspect_ratio=False,\n",
    "   \n",
    ")"
   ]
  },
  {
   "cell_type": "code",
   "execution_count": 4,
   "id": "b2b1b37a-9164-4e21-91f6-b441b09629f9",
   "metadata": {},
   "outputs": [
    {
     "data": {
      "text/plain": [
       "<_PrefetchDataset element_spec=(TensorSpec(shape=(None, 128, 128, 3), dtype=tf.float32, name=None), TensorSpec(shape=(None, 38), dtype=tf.float32, name=None))>"
      ]
     },
     "execution_count": 4,
     "metadata": {},
     "output_type": "execute_result"
    }
   ],
   "source": [
    "training_set\n"
   ]
  },
  {
   "cell_type": "code",
   "execution_count": 5,
   "id": "d396b197-d3d4-45d6-8e18-dbd29ae4c4e4",
   "metadata": {},
   "outputs": [
    {
     "name": "stdout",
     "output_type": "stream",
     "text": [
      "tf.Tensor(\n",
      "[[[[102.    88.   123.  ]\n",
      "   [ 93.    79.   114.  ]\n",
      "   [102.5   88.5  123.5 ]\n",
      "   ...\n",
      "   [138.   129.   158.  ]\n",
      "   [132.25 123.25 152.25]\n",
      "   [123.5  114.5  143.5 ]]\n",
      "\n",
      "  [[115.25 101.25 134.25]\n",
      "   [125.25 111.25 144.25]\n",
      "   [ 82.25  68.25 101.25]\n",
      "   ...\n",
      "   [132.75 123.75 152.75]\n",
      "   [132.75 123.75 152.75]\n",
      "   [132.25 123.25 152.25]]\n",
      "\n",
      "  [[103.    89.   122.  ]\n",
      "   [ 88.75  74.75 107.75]\n",
      "   [113.    99.   132.  ]\n",
      "   ...\n",
      "   [126.   117.   146.  ]\n",
      "   [134.   125.   154.  ]\n",
      "   [143.25 134.25 163.25]]\n",
      "\n",
      "  ...\n",
      "\n",
      "  [[114.5  105.5  132.5 ]\n",
      "   [115.5  106.5  133.5 ]\n",
      "   [117.75 108.75 135.75]\n",
      "   ...\n",
      "   [159.75 154.75 177.75]\n",
      "   [161.   156.   179.  ]\n",
      "   [168.   163.   186.  ]]\n",
      "\n",
      "  [[125.5  116.5  143.5 ]\n",
      "   [125.5  116.5  143.5 ]\n",
      "   [124.5  115.5  142.5 ]\n",
      "   ...\n",
      "   [165.75 160.75 183.75]\n",
      "   [165.5  160.5  183.5 ]\n",
      "   [168.25 163.25 186.25]]\n",
      "\n",
      "  [[129.   120.   147.  ]\n",
      "   [131.25 122.25 149.25]\n",
      "   [131.75 122.75 149.75]\n",
      "   ...\n",
      "   [174.5  169.5  192.5 ]\n",
      "   [176.5  171.5  194.5 ]\n",
      "   [173.75 168.75 191.75]]]\n",
      "\n",
      "\n",
      " [[[190.5  185.5  182.5 ]\n",
      "   [181.25 176.25 173.25]\n",
      "   [189.25 184.25 181.25]\n",
      "   ...\n",
      "   [184.5  174.5  172.5 ]\n",
      "   [200.5  190.5  188.5 ]\n",
      "   [192.   182.   180.  ]]\n",
      "\n",
      "  [[182.75 177.75 174.75]\n",
      "   [189.   184.   181.  ]\n",
      "   [191.   186.   183.  ]\n",
      "   ...\n",
      "   [199.25 189.25 187.25]\n",
      "   [193.25 183.25 181.25]\n",
      "   [194.   184.   182.  ]]\n",
      "\n",
      "  [[178.5  173.5  170.5 ]\n",
      "   [181.25 176.25 173.25]\n",
      "   [192.75 187.75 184.75]\n",
      "   ...\n",
      "   [184.5  174.5  172.5 ]\n",
      "   [185.   175.   173.  ]\n",
      "   [184.5  174.5  172.5 ]]\n",
      "\n",
      "  ...\n",
      "\n",
      "  [[172.   159.   153.  ]\n",
      "   [170.5  157.5  151.5 ]\n",
      "   [144.75 131.75 125.75]\n",
      "   ...\n",
      "   [ 27.75  28.25  33.5 ]\n",
      "   [ 25.    27.25  34.5 ]\n",
      "   [ 24.25  27.25  36.25]]\n",
      "\n",
      "  [[143.5  130.5  124.5 ]\n",
      "   [180.25 167.25 161.25]\n",
      "   [179.   166.   160.  ]\n",
      "   ...\n",
      "   [ 28.5   28.5   36.5 ]\n",
      "   [ 27.5   30.5   37.5 ]\n",
      "   [ 26.5   29.5   36.5 ]]\n",
      "\n",
      "  [[170.75 157.75 151.75]\n",
      "   [149.5  136.5  130.5 ]\n",
      "   [149.5  136.5  130.5 ]\n",
      "   ...\n",
      "   [ 27.5   27.5   35.5 ]\n",
      "   [ 27.75  28.75  33.75]\n",
      "   [ 28.75  29.75  34.75]]]\n",
      "\n",
      "\n",
      " [[[ 98.75 102.75 103.75]\n",
      "   [104.75 108.75 109.75]\n",
      "   [101.   105.   106.  ]\n",
      "   ...\n",
      "   [100.25 104.25 105.25]\n",
      "   [ 98.5  102.5  103.5 ]\n",
      "   [ 90.5   94.5   95.5 ]]\n",
      "\n",
      "  [[102.5  106.5  107.5 ]\n",
      "   [107.25 111.25 112.25]\n",
      "   [104.75 108.75 109.75]\n",
      "   ...\n",
      "   [ 95.25  99.25 100.25]\n",
      "   [ 95.5   99.5  100.5 ]\n",
      "   [ 86.25  90.25  91.25]]\n",
      "\n",
      "  [[104.75 108.75 109.75]\n",
      "   [109.25 113.25 114.25]\n",
      "   [ 97.5  101.5  102.5 ]\n",
      "   ...\n",
      "   [102.5  106.5  107.5 ]\n",
      "   [ 97.   101.   102.  ]\n",
      "   [ 90.5   94.5   95.5 ]]\n",
      "\n",
      "  ...\n",
      "\n",
      "  [[148.   146.   149.  ]\n",
      "   [156.75 154.75 157.75]\n",
      "   [130.5  128.5  131.5 ]\n",
      "   ...\n",
      "   [139.25 137.25 140.25]\n",
      "   [147.   145.   148.  ]\n",
      "   [134.   132.   135.  ]]\n",
      "\n",
      "  [[138.5  136.5  139.5 ]\n",
      "   [144.25 142.25 145.25]\n",
      "   [129.75 127.75 130.75]\n",
      "   ...\n",
      "   [142.   140.   143.  ]\n",
      "   [140.5  138.5  141.5 ]\n",
      "   [134.   132.   135.  ]]\n",
      "\n",
      "  [[143.5  141.5  144.5 ]\n",
      "   [128.5  126.5  129.5 ]\n",
      "   [134.5  132.5  135.5 ]\n",
      "   ...\n",
      "   [145.5  143.5  146.5 ]\n",
      "   [145.25 143.25 146.25]\n",
      "   [137.25 135.25 138.25]]]\n",
      "\n",
      "\n",
      " ...\n",
      "\n",
      "\n",
      " [[[  0.     0.     0.  ]\n",
      "   [  0.     0.     0.  ]\n",
      "   [  0.     0.     0.  ]\n",
      "   ...\n",
      "   [  0.     0.     0.  ]\n",
      "   [  0.     0.     0.  ]\n",
      "   [  0.     0.     0.  ]]\n",
      "\n",
      "  [[  0.     0.     0.  ]\n",
      "   [  0.     0.     0.  ]\n",
      "   [  0.     0.     0.  ]\n",
      "   ...\n",
      "   [  0.     0.     0.  ]\n",
      "   [  0.     0.     0.  ]\n",
      "   [  0.     0.     0.  ]]\n",
      "\n",
      "  [[  0.     0.     0.  ]\n",
      "   [  0.     0.     0.  ]\n",
      "   [  0.     0.     0.  ]\n",
      "   ...\n",
      "   [  0.     0.     0.  ]\n",
      "   [  0.     0.     0.  ]\n",
      "   [  0.     0.     0.  ]]\n",
      "\n",
      "  ...\n",
      "\n",
      "  [[  0.     0.     0.  ]\n",
      "   [  0.     0.     0.  ]\n",
      "   [  0.     0.     0.  ]\n",
      "   ...\n",
      "   [  0.     0.     0.  ]\n",
      "   [  0.     0.     0.  ]\n",
      "   [  0.     0.     0.  ]]\n",
      "\n",
      "  [[  0.     0.     0.  ]\n",
      "   [  0.     0.     0.  ]\n",
      "   [  0.     0.     0.  ]\n",
      "   ...\n",
      "   [  0.     0.     0.  ]\n",
      "   [  0.     0.     0.  ]\n",
      "   [  0.     0.     0.  ]]\n",
      "\n",
      "  [[  0.     0.     0.  ]\n",
      "   [  0.     0.     0.  ]\n",
      "   [  0.     0.     0.  ]\n",
      "   ...\n",
      "   [  0.     0.     0.  ]\n",
      "   [  0.     0.     0.  ]\n",
      "   [  0.     0.     0.  ]]]\n",
      "\n",
      "\n",
      " [[[141.25 128.25 135.25]\n",
      "   [140.25 127.25 134.25]\n",
      "   [132.25 119.25 126.25]\n",
      "   ...\n",
      "   [104.25  89.25  94.25]\n",
      "   [115.75 100.75 105.75]\n",
      "   [100.    85.    90.  ]]\n",
      "\n",
      "  [[136.75 123.75 130.75]\n",
      "   [124.5  111.5  118.5 ]\n",
      "   [136.25 123.25 130.25]\n",
      "   ...\n",
      "   [120.75 105.75 110.75]\n",
      "   [115.   100.   105.  ]\n",
      "   [107.25  92.25  97.25]]\n",
      "\n",
      "  [[129.25 116.25 123.25]\n",
      "   [131.75 118.75 125.75]\n",
      "   [144.   131.   138.  ]\n",
      "   ...\n",
      "   [108.5   93.5   98.5 ]\n",
      "   [107.5   92.5   97.5 ]\n",
      "   [101.    86.    91.  ]]\n",
      "\n",
      "  ...\n",
      "\n",
      "  [[169.75 160.75 165.75]\n",
      "   [167.75 158.75 163.75]\n",
      "   [172.25 163.25 168.25]\n",
      "   ...\n",
      "   [127.25 114.25 121.25]\n",
      "   [130.   117.   124.  ]\n",
      "   [128.75 115.75 122.75]]\n",
      "\n",
      "  [[185.5  176.5  181.5 ]\n",
      "   [177.25 168.25 173.25]\n",
      "   [176.   167.   172.  ]\n",
      "   ...\n",
      "   [129.75 116.75 123.75]\n",
      "   [129.75 116.75 123.75]\n",
      "   [122.   109.   116.  ]]\n",
      "\n",
      "  [[175.25 166.25 171.25]\n",
      "   [179.   170.   175.  ]\n",
      "   [179.75 170.75 175.75]\n",
      "   ...\n",
      "   [129.25 116.25 123.25]\n",
      "   [136.   123.   130.  ]\n",
      "   [130.5  117.5  124.5 ]]]\n",
      "\n",
      "\n",
      " [[[184.25 166.25 164.25]\n",
      "   [174.5  156.5  154.5 ]\n",
      "   [179.75 161.75 159.75]\n",
      "   ...\n",
      "   [169.5  151.5  149.5 ]\n",
      "   [171.5  153.5  151.5 ]\n",
      "   [169.25 151.25 149.25]]\n",
      "\n",
      "  [[172.5  154.5  152.5 ]\n",
      "   [184.25 166.25 164.25]\n",
      "   [169.   151.   149.  ]\n",
      "   ...\n",
      "   [174.25 156.25 154.25]\n",
      "   [165.75 147.75 145.75]\n",
      "   [170.25 152.25 150.25]]\n",
      "\n",
      "  [[179.5  161.5  159.5 ]\n",
      "   [181.25 163.25 161.25]\n",
      "   [188.   170.   168.  ]\n",
      "   ...\n",
      "   [176.   158.   156.  ]\n",
      "   [169.5  151.5  149.5 ]\n",
      "   [171.25 153.25 151.25]]\n",
      "\n",
      "  ...\n",
      "\n",
      "  [[127.5   97.5   95.5 ]\n",
      "   [135.   105.   103.  ]\n",
      "   [128.    98.    96.  ]\n",
      "   ...\n",
      "   [133.25 103.25 101.25]\n",
      "   [131.   101.    99.  ]\n",
      "   [136.25 106.25 104.25]]\n",
      "\n",
      "  [[134.5  104.5  102.5 ]\n",
      "   [136.5  106.5  104.5 ]\n",
      "   [132.5  102.5  100.5 ]\n",
      "   ...\n",
      "   [137.   107.   105.  ]\n",
      "   [133.75 103.75 101.75]\n",
      "   [135.   105.   103.  ]]\n",
      "\n",
      "  [[132.25 102.25 100.25]\n",
      "   [143.75 113.75 111.75]\n",
      "   [142.5  112.5  110.5 ]\n",
      "   ...\n",
      "   [139.25 109.25 107.25]\n",
      "   [134.   104.   102.  ]\n",
      "   [131.   101.    99.  ]]]], shape=(32, 128, 128, 3), dtype=float32) (32, 128, 128, 3)\n",
      "tf.Tensor(\n",
      "[[0. 0. 0. ... 0. 0. 0.]\n",
      " [0. 0. 0. ... 0. 0. 0.]\n",
      " [0. 0. 0. ... 0. 0. 1.]\n",
      " ...\n",
      " [1. 0. 0. ... 0. 0. 0.]\n",
      " [0. 0. 0. ... 0. 0. 0.]\n",
      " [0. 0. 0. ... 0. 0. 0.]], shape=(32, 38), dtype=float32) (32, 38)\n"
     ]
    }
   ],
   "source": [
    "for x,y in training_set:\n",
    "    print(x,x.shape)\n",
    "    print(y,y.shape)\n",
    "    break"
   ]
  },
  {
   "cell_type": "markdown",
   "id": "ea306502-fc55-4a0b-a888-720666b012d4",
   "metadata": {},
   "source": [
    "## Building model"
   ]
  },
  {
   "cell_type": "code",
   "execution_count": 6,
   "id": "f0fa1a39-31dd-46a6-bd53-01ce0129bf82",
   "metadata": {},
   "outputs": [],
   "source": [
    "from tensorflow.keras.layers import Dense,Conv2D,MaxPool2D,Flatten,Dropout\n",
    "from tensorflow.keras.models import Sequential"
   ]
  },
  {
   "cell_type": "code",
   "execution_count": 7,
   "id": "a0933d9b-384a-491f-be37-8e46b7aa5f7e",
   "metadata": {},
   "outputs": [],
   "source": [
    "model =  Sequential()"
   ]
  },
  {
   "cell_type": "code",
   "execution_count": null,
   "id": "7c787fca-192d-41f5-b659-ca1b16017a2c",
   "metadata": {},
   "outputs": [],
   "source": [
    "## Building convulational layer"
   ]
  },
  {
   "cell_type": "code",
   "execution_count": 8,
   "id": "fddcc10b-6fe1-4e3a-b465-7ec802901e7d",
   "metadata": {},
   "outputs": [
    {
     "name": "stderr",
     "output_type": "stream",
     "text": [
      "C:\\Users\\Nikita Jagadale\\anaconda3\\Lib\\site-packages\\keras\\src\\layers\\convolutional\\base_conv.py:99: UserWarning: Do not pass an `input_shape`/`input_dim` argument to a layer. When using Sequential models, prefer using an `Input(shape)` object as the first layer in the model instead.\n",
      "  super().__init__(\n"
     ]
    }
   ],
   "source": [
    "model.add(Conv2D(filters=32, kernel_size=3,padding = 'same',activation= 'relu' , input_shape= [128,128,3]))\n",
    "model.add(Conv2D(filters=32, kernel_size=3,activation= 'relu'))\n",
    "model.add(MaxPool2D(pool_size=2, strides=2))"
   ]
  },
  {
   "cell_type": "code",
   "execution_count": 9,
   "id": "f821da05-3a75-4dc4-839a-9c8c5a88e0e3",
   "metadata": {},
   "outputs": [],
   "source": [
    "model.add(Conv2D(filters=64, kernel_size=3,padding = 'same',activation= 'relu'))\n",
    "model.add(Conv2D(filters=64, kernel_size=3,activation= 'relu'))\n",
    "model.add(MaxPool2D(pool_size=2, strides=2))"
   ]
  },
  {
   "cell_type": "code",
   "execution_count": 10,
   "id": "e5897051-c8f8-4ffa-b44f-6c4e4a66c8ec",
   "metadata": {},
   "outputs": [],
   "source": [
    "model.add(Conv2D(filters=128, kernel_size=3,padding = 'same',activation= 'relu' ))\n",
    "model.add(Conv2D(filters=128, kernel_size=3,activation= 'relu'))\n",
    "model.add(MaxPool2D(pool_size=2, strides=2))"
   ]
  },
  {
   "cell_type": "code",
   "execution_count": 11,
   "id": "461f2f76-c439-45a8-a901-2ef96940fda5",
   "metadata": {},
   "outputs": [],
   "source": [
    "model.add(Conv2D(filters=256, kernel_size=3,padding = 'same',activation= 'relu' ))\n",
    "model.add(Conv2D(filters=256, kernel_size=3,activation= 'relu'))\n",
    "model.add(MaxPool2D(pool_size=2, strides=2))"
   ]
  },
  {
   "cell_type": "code",
   "execution_count": 12,
   "id": "80bc0ba1-a307-4dee-b58b-1ddeb1e6b84c",
   "metadata": {},
   "outputs": [],
   "source": [
    "model.add(Conv2D(filters=512, kernel_size=3,padding = 'same',activation= 'relu' ))\n",
    "model.add(Conv2D(filters=512, kernel_size=3,activation= 'relu'))\n",
    "model.add(MaxPool2D(pool_size=2, strides=2))"
   ]
  },
  {
   "cell_type": "code",
   "execution_count": 13,
   "id": "1ebed0da-f4d8-4295-8128-5e0b581ae63f",
   "metadata": {},
   "outputs": [],
   "source": [
    "model.add(Dropout(0.25))"
   ]
  },
  {
   "cell_type": "code",
   "execution_count": 14,
   "id": "5b4abc93-6abf-419c-b2e3-f1982884b9c4",
   "metadata": {},
   "outputs": [],
   "source": [
    "model.add(Flatten())"
   ]
  },
  {
   "cell_type": "code",
   "execution_count": 15,
   "id": "72b84ddc-ac4c-420b-b34b-0db728226e37",
   "metadata": {},
   "outputs": [],
   "source": [
    "model.add(Dense(units=1500,activation= 'relu'))\n"
   ]
  },
  {
   "cell_type": "code",
   "execution_count": 16,
   "id": "90cea5e1-9b15-4d93-947d-831e2c497244",
   "metadata": {},
   "outputs": [],
   "source": [
    "model.add(Dropout(0.4))"
   ]
  },
  {
   "cell_type": "code",
   "execution_count": 17,
   "id": "92d69373-3660-4fe1-bd13-5872cb707ce8",
   "metadata": {},
   "outputs": [],
   "source": [
    "model.add(Dense(units=38,activation='softmax'))"
   ]
  },
  {
   "cell_type": "markdown",
   "id": "41ce4ccf-80e7-4e99-893f-e97835fb2efa",
   "metadata": {},
   "source": [
    "## Compiling Model"
   ]
  },
  {
   "cell_type": "code",
   "execution_count": 18,
   "id": "895ec258-d945-47cc-97a1-5993c9dfcc6f",
   "metadata": {},
   "outputs": [],
   "source": [
    "model.compile(optimizer=tf.keras.optimizers.Adam(\n",
    "    learning_rate=0.0001),loss='categorical_crossentropy',metrics=['accuracy'])"
   ]
  },
  {
   "cell_type": "code",
   "execution_count": 19,
   "id": "7fa39d05-b52b-4838-b365-be9005ad317f",
   "metadata": {},
   "outputs": [
    {
     "data": {
      "text/html": [
       "<pre style=\"white-space:pre;overflow-x:auto;line-height:normal;font-family:Menlo,'DejaVu Sans Mono',consolas,'Courier New',monospace\"><span style=\"font-weight: bold\">Model: \"sequential\"</span>\n",
       "</pre>\n"
      ],
      "text/plain": [
       "\u001b[1mModel: \"sequential\"\u001b[0m\n"
      ]
     },
     "metadata": {},
     "output_type": "display_data"
    },
    {
     "data": {
      "text/html": [
       "<pre style=\"white-space:pre;overflow-x:auto;line-height:normal;font-family:Menlo,'DejaVu Sans Mono',consolas,'Courier New',monospace\">┏━━━━━━━━━━━━━━━━━━━━━━━━━━━━━━━━━┳━━━━━━━━━━━━━━━━━━━━━━━━┳━━━━━━━━━━━━━━━┓\n",
       "┃<span style=\"font-weight: bold\"> Layer (type)                    </span>┃<span style=\"font-weight: bold\"> Output Shape           </span>┃<span style=\"font-weight: bold\">       Param # </span>┃\n",
       "┡━━━━━━━━━━━━━━━━━━━━━━━━━━━━━━━━━╇━━━━━━━━━━━━━━━━━━━━━━━━╇━━━━━━━━━━━━━━━┩\n",
       "│ conv2d (<span style=\"color: #0087ff; text-decoration-color: #0087ff\">Conv2D</span>)                 │ (<span style=\"color: #00d7ff; text-decoration-color: #00d7ff\">None</span>, <span style=\"color: #00af00; text-decoration-color: #00af00\">128</span>, <span style=\"color: #00af00; text-decoration-color: #00af00\">128</span>, <span style=\"color: #00af00; text-decoration-color: #00af00\">32</span>)   │           <span style=\"color: #00af00; text-decoration-color: #00af00\">896</span> │\n",
       "├─────────────────────────────────┼────────────────────────┼───────────────┤\n",
       "│ conv2d_1 (<span style=\"color: #0087ff; text-decoration-color: #0087ff\">Conv2D</span>)               │ (<span style=\"color: #00d7ff; text-decoration-color: #00d7ff\">None</span>, <span style=\"color: #00af00; text-decoration-color: #00af00\">126</span>, <span style=\"color: #00af00; text-decoration-color: #00af00\">126</span>, <span style=\"color: #00af00; text-decoration-color: #00af00\">32</span>)   │         <span style=\"color: #00af00; text-decoration-color: #00af00\">9,248</span> │\n",
       "├─────────────────────────────────┼────────────────────────┼───────────────┤\n",
       "│ max_pooling2d (<span style=\"color: #0087ff; text-decoration-color: #0087ff\">MaxPooling2D</span>)    │ (<span style=\"color: #00d7ff; text-decoration-color: #00d7ff\">None</span>, <span style=\"color: #00af00; text-decoration-color: #00af00\">63</span>, <span style=\"color: #00af00; text-decoration-color: #00af00\">63</span>, <span style=\"color: #00af00; text-decoration-color: #00af00\">32</span>)     │             <span style=\"color: #00af00; text-decoration-color: #00af00\">0</span> │\n",
       "├─────────────────────────────────┼────────────────────────┼───────────────┤\n",
       "│ conv2d_2 (<span style=\"color: #0087ff; text-decoration-color: #0087ff\">Conv2D</span>)               │ (<span style=\"color: #00d7ff; text-decoration-color: #00d7ff\">None</span>, <span style=\"color: #00af00; text-decoration-color: #00af00\">63</span>, <span style=\"color: #00af00; text-decoration-color: #00af00\">63</span>, <span style=\"color: #00af00; text-decoration-color: #00af00\">64</span>)     │        <span style=\"color: #00af00; text-decoration-color: #00af00\">18,496</span> │\n",
       "├─────────────────────────────────┼────────────────────────┼───────────────┤\n",
       "│ conv2d_3 (<span style=\"color: #0087ff; text-decoration-color: #0087ff\">Conv2D</span>)               │ (<span style=\"color: #00d7ff; text-decoration-color: #00d7ff\">None</span>, <span style=\"color: #00af00; text-decoration-color: #00af00\">61</span>, <span style=\"color: #00af00; text-decoration-color: #00af00\">61</span>, <span style=\"color: #00af00; text-decoration-color: #00af00\">64</span>)     │        <span style=\"color: #00af00; text-decoration-color: #00af00\">36,928</span> │\n",
       "├─────────────────────────────────┼────────────────────────┼───────────────┤\n",
       "│ max_pooling2d_1 (<span style=\"color: #0087ff; text-decoration-color: #0087ff\">MaxPooling2D</span>)  │ (<span style=\"color: #00d7ff; text-decoration-color: #00d7ff\">None</span>, <span style=\"color: #00af00; text-decoration-color: #00af00\">30</span>, <span style=\"color: #00af00; text-decoration-color: #00af00\">30</span>, <span style=\"color: #00af00; text-decoration-color: #00af00\">64</span>)     │             <span style=\"color: #00af00; text-decoration-color: #00af00\">0</span> │\n",
       "├─────────────────────────────────┼────────────────────────┼───────────────┤\n",
       "│ conv2d_4 (<span style=\"color: #0087ff; text-decoration-color: #0087ff\">Conv2D</span>)               │ (<span style=\"color: #00d7ff; text-decoration-color: #00d7ff\">None</span>, <span style=\"color: #00af00; text-decoration-color: #00af00\">30</span>, <span style=\"color: #00af00; text-decoration-color: #00af00\">30</span>, <span style=\"color: #00af00; text-decoration-color: #00af00\">128</span>)    │        <span style=\"color: #00af00; text-decoration-color: #00af00\">73,856</span> │\n",
       "├─────────────────────────────────┼────────────────────────┼───────────────┤\n",
       "│ conv2d_5 (<span style=\"color: #0087ff; text-decoration-color: #0087ff\">Conv2D</span>)               │ (<span style=\"color: #00d7ff; text-decoration-color: #00d7ff\">None</span>, <span style=\"color: #00af00; text-decoration-color: #00af00\">28</span>, <span style=\"color: #00af00; text-decoration-color: #00af00\">28</span>, <span style=\"color: #00af00; text-decoration-color: #00af00\">128</span>)    │       <span style=\"color: #00af00; text-decoration-color: #00af00\">147,584</span> │\n",
       "├─────────────────────────────────┼────────────────────────┼───────────────┤\n",
       "│ max_pooling2d_2 (<span style=\"color: #0087ff; text-decoration-color: #0087ff\">MaxPooling2D</span>)  │ (<span style=\"color: #00d7ff; text-decoration-color: #00d7ff\">None</span>, <span style=\"color: #00af00; text-decoration-color: #00af00\">14</span>, <span style=\"color: #00af00; text-decoration-color: #00af00\">14</span>, <span style=\"color: #00af00; text-decoration-color: #00af00\">128</span>)    │             <span style=\"color: #00af00; text-decoration-color: #00af00\">0</span> │\n",
       "├─────────────────────────────────┼────────────────────────┼───────────────┤\n",
       "│ conv2d_6 (<span style=\"color: #0087ff; text-decoration-color: #0087ff\">Conv2D</span>)               │ (<span style=\"color: #00d7ff; text-decoration-color: #00d7ff\">None</span>, <span style=\"color: #00af00; text-decoration-color: #00af00\">14</span>, <span style=\"color: #00af00; text-decoration-color: #00af00\">14</span>, <span style=\"color: #00af00; text-decoration-color: #00af00\">256</span>)    │       <span style=\"color: #00af00; text-decoration-color: #00af00\">295,168</span> │\n",
       "├─────────────────────────────────┼────────────────────────┼───────────────┤\n",
       "│ conv2d_7 (<span style=\"color: #0087ff; text-decoration-color: #0087ff\">Conv2D</span>)               │ (<span style=\"color: #00d7ff; text-decoration-color: #00d7ff\">None</span>, <span style=\"color: #00af00; text-decoration-color: #00af00\">12</span>, <span style=\"color: #00af00; text-decoration-color: #00af00\">12</span>, <span style=\"color: #00af00; text-decoration-color: #00af00\">256</span>)    │       <span style=\"color: #00af00; text-decoration-color: #00af00\">590,080</span> │\n",
       "├─────────────────────────────────┼────────────────────────┼───────────────┤\n",
       "│ max_pooling2d_3 (<span style=\"color: #0087ff; text-decoration-color: #0087ff\">MaxPooling2D</span>)  │ (<span style=\"color: #00d7ff; text-decoration-color: #00d7ff\">None</span>, <span style=\"color: #00af00; text-decoration-color: #00af00\">6</span>, <span style=\"color: #00af00; text-decoration-color: #00af00\">6</span>, <span style=\"color: #00af00; text-decoration-color: #00af00\">256</span>)      │             <span style=\"color: #00af00; text-decoration-color: #00af00\">0</span> │\n",
       "├─────────────────────────────────┼────────────────────────┼───────────────┤\n",
       "│ conv2d_8 (<span style=\"color: #0087ff; text-decoration-color: #0087ff\">Conv2D</span>)               │ (<span style=\"color: #00d7ff; text-decoration-color: #00d7ff\">None</span>, <span style=\"color: #00af00; text-decoration-color: #00af00\">6</span>, <span style=\"color: #00af00; text-decoration-color: #00af00\">6</span>, <span style=\"color: #00af00; text-decoration-color: #00af00\">512</span>)      │     <span style=\"color: #00af00; text-decoration-color: #00af00\">1,180,160</span> │\n",
       "├─────────────────────────────────┼────────────────────────┼───────────────┤\n",
       "│ conv2d_9 (<span style=\"color: #0087ff; text-decoration-color: #0087ff\">Conv2D</span>)               │ (<span style=\"color: #00d7ff; text-decoration-color: #00d7ff\">None</span>, <span style=\"color: #00af00; text-decoration-color: #00af00\">4</span>, <span style=\"color: #00af00; text-decoration-color: #00af00\">4</span>, <span style=\"color: #00af00; text-decoration-color: #00af00\">512</span>)      │     <span style=\"color: #00af00; text-decoration-color: #00af00\">2,359,808</span> │\n",
       "├─────────────────────────────────┼────────────────────────┼───────────────┤\n",
       "│ max_pooling2d_4 (<span style=\"color: #0087ff; text-decoration-color: #0087ff\">MaxPooling2D</span>)  │ (<span style=\"color: #00d7ff; text-decoration-color: #00d7ff\">None</span>, <span style=\"color: #00af00; text-decoration-color: #00af00\">2</span>, <span style=\"color: #00af00; text-decoration-color: #00af00\">2</span>, <span style=\"color: #00af00; text-decoration-color: #00af00\">512</span>)      │             <span style=\"color: #00af00; text-decoration-color: #00af00\">0</span> │\n",
       "├─────────────────────────────────┼────────────────────────┼───────────────┤\n",
       "│ dropout (<span style=\"color: #0087ff; text-decoration-color: #0087ff\">Dropout</span>)               │ (<span style=\"color: #00d7ff; text-decoration-color: #00d7ff\">None</span>, <span style=\"color: #00af00; text-decoration-color: #00af00\">2</span>, <span style=\"color: #00af00; text-decoration-color: #00af00\">2</span>, <span style=\"color: #00af00; text-decoration-color: #00af00\">512</span>)      │             <span style=\"color: #00af00; text-decoration-color: #00af00\">0</span> │\n",
       "├─────────────────────────────────┼────────────────────────┼───────────────┤\n",
       "│ flatten (<span style=\"color: #0087ff; text-decoration-color: #0087ff\">Flatten</span>)               │ (<span style=\"color: #00d7ff; text-decoration-color: #00d7ff\">None</span>, <span style=\"color: #00af00; text-decoration-color: #00af00\">2048</span>)           │             <span style=\"color: #00af00; text-decoration-color: #00af00\">0</span> │\n",
       "├─────────────────────────────────┼────────────────────────┼───────────────┤\n",
       "│ dense (<span style=\"color: #0087ff; text-decoration-color: #0087ff\">Dense</span>)                   │ (<span style=\"color: #00d7ff; text-decoration-color: #00d7ff\">None</span>, <span style=\"color: #00af00; text-decoration-color: #00af00\">1500</span>)           │     <span style=\"color: #00af00; text-decoration-color: #00af00\">3,073,500</span> │\n",
       "├─────────────────────────────────┼────────────────────────┼───────────────┤\n",
       "│ dropout_1 (<span style=\"color: #0087ff; text-decoration-color: #0087ff\">Dropout</span>)             │ (<span style=\"color: #00d7ff; text-decoration-color: #00d7ff\">None</span>, <span style=\"color: #00af00; text-decoration-color: #00af00\">1500</span>)           │             <span style=\"color: #00af00; text-decoration-color: #00af00\">0</span> │\n",
       "├─────────────────────────────────┼────────────────────────┼───────────────┤\n",
       "│ dense_1 (<span style=\"color: #0087ff; text-decoration-color: #0087ff\">Dense</span>)                 │ (<span style=\"color: #00d7ff; text-decoration-color: #00d7ff\">None</span>, <span style=\"color: #00af00; text-decoration-color: #00af00\">38</span>)             │        <span style=\"color: #00af00; text-decoration-color: #00af00\">57,038</span> │\n",
       "└─────────────────────────────────┴────────────────────────┴───────────────┘\n",
       "</pre>\n"
      ],
      "text/plain": [
       "┏━━━━━━━━━━━━━━━━━━━━━━━━━━━━━━━━━┳━━━━━━━━━━━━━━━━━━━━━━━━┳━━━━━━━━━━━━━━━┓\n",
       "┃\u001b[1m \u001b[0m\u001b[1mLayer (type)                   \u001b[0m\u001b[1m \u001b[0m┃\u001b[1m \u001b[0m\u001b[1mOutput Shape          \u001b[0m\u001b[1m \u001b[0m┃\u001b[1m \u001b[0m\u001b[1m      Param #\u001b[0m\u001b[1m \u001b[0m┃\n",
       "┡━━━━━━━━━━━━━━━━━━━━━━━━━━━━━━━━━╇━━━━━━━━━━━━━━━━━━━━━━━━╇━━━━━━━━━━━━━━━┩\n",
       "│ conv2d (\u001b[38;5;33mConv2D\u001b[0m)                 │ (\u001b[38;5;45mNone\u001b[0m, \u001b[38;5;34m128\u001b[0m, \u001b[38;5;34m128\u001b[0m, \u001b[38;5;34m32\u001b[0m)   │           \u001b[38;5;34m896\u001b[0m │\n",
       "├─────────────────────────────────┼────────────────────────┼───────────────┤\n",
       "│ conv2d_1 (\u001b[38;5;33mConv2D\u001b[0m)               │ (\u001b[38;5;45mNone\u001b[0m, \u001b[38;5;34m126\u001b[0m, \u001b[38;5;34m126\u001b[0m, \u001b[38;5;34m32\u001b[0m)   │         \u001b[38;5;34m9,248\u001b[0m │\n",
       "├─────────────────────────────────┼────────────────────────┼───────────────┤\n",
       "│ max_pooling2d (\u001b[38;5;33mMaxPooling2D\u001b[0m)    │ (\u001b[38;5;45mNone\u001b[0m, \u001b[38;5;34m63\u001b[0m, \u001b[38;5;34m63\u001b[0m, \u001b[38;5;34m32\u001b[0m)     │             \u001b[38;5;34m0\u001b[0m │\n",
       "├─────────────────────────────────┼────────────────────────┼───────────────┤\n",
       "│ conv2d_2 (\u001b[38;5;33mConv2D\u001b[0m)               │ (\u001b[38;5;45mNone\u001b[0m, \u001b[38;5;34m63\u001b[0m, \u001b[38;5;34m63\u001b[0m, \u001b[38;5;34m64\u001b[0m)     │        \u001b[38;5;34m18,496\u001b[0m │\n",
       "├─────────────────────────────────┼────────────────────────┼───────────────┤\n",
       "│ conv2d_3 (\u001b[38;5;33mConv2D\u001b[0m)               │ (\u001b[38;5;45mNone\u001b[0m, \u001b[38;5;34m61\u001b[0m, \u001b[38;5;34m61\u001b[0m, \u001b[38;5;34m64\u001b[0m)     │        \u001b[38;5;34m36,928\u001b[0m │\n",
       "├─────────────────────────────────┼────────────────────────┼───────────────┤\n",
       "│ max_pooling2d_1 (\u001b[38;5;33mMaxPooling2D\u001b[0m)  │ (\u001b[38;5;45mNone\u001b[0m, \u001b[38;5;34m30\u001b[0m, \u001b[38;5;34m30\u001b[0m, \u001b[38;5;34m64\u001b[0m)     │             \u001b[38;5;34m0\u001b[0m │\n",
       "├─────────────────────────────────┼────────────────────────┼───────────────┤\n",
       "│ conv2d_4 (\u001b[38;5;33mConv2D\u001b[0m)               │ (\u001b[38;5;45mNone\u001b[0m, \u001b[38;5;34m30\u001b[0m, \u001b[38;5;34m30\u001b[0m, \u001b[38;5;34m128\u001b[0m)    │        \u001b[38;5;34m73,856\u001b[0m │\n",
       "├─────────────────────────────────┼────────────────────────┼───────────────┤\n",
       "│ conv2d_5 (\u001b[38;5;33mConv2D\u001b[0m)               │ (\u001b[38;5;45mNone\u001b[0m, \u001b[38;5;34m28\u001b[0m, \u001b[38;5;34m28\u001b[0m, \u001b[38;5;34m128\u001b[0m)    │       \u001b[38;5;34m147,584\u001b[0m │\n",
       "├─────────────────────────────────┼────────────────────────┼───────────────┤\n",
       "│ max_pooling2d_2 (\u001b[38;5;33mMaxPooling2D\u001b[0m)  │ (\u001b[38;5;45mNone\u001b[0m, \u001b[38;5;34m14\u001b[0m, \u001b[38;5;34m14\u001b[0m, \u001b[38;5;34m128\u001b[0m)    │             \u001b[38;5;34m0\u001b[0m │\n",
       "├─────────────────────────────────┼────────────────────────┼───────────────┤\n",
       "│ conv2d_6 (\u001b[38;5;33mConv2D\u001b[0m)               │ (\u001b[38;5;45mNone\u001b[0m, \u001b[38;5;34m14\u001b[0m, \u001b[38;5;34m14\u001b[0m, \u001b[38;5;34m256\u001b[0m)    │       \u001b[38;5;34m295,168\u001b[0m │\n",
       "├─────────────────────────────────┼────────────────────────┼───────────────┤\n",
       "│ conv2d_7 (\u001b[38;5;33mConv2D\u001b[0m)               │ (\u001b[38;5;45mNone\u001b[0m, \u001b[38;5;34m12\u001b[0m, \u001b[38;5;34m12\u001b[0m, \u001b[38;5;34m256\u001b[0m)    │       \u001b[38;5;34m590,080\u001b[0m │\n",
       "├─────────────────────────────────┼────────────────────────┼───────────────┤\n",
       "│ max_pooling2d_3 (\u001b[38;5;33mMaxPooling2D\u001b[0m)  │ (\u001b[38;5;45mNone\u001b[0m, \u001b[38;5;34m6\u001b[0m, \u001b[38;5;34m6\u001b[0m, \u001b[38;5;34m256\u001b[0m)      │             \u001b[38;5;34m0\u001b[0m │\n",
       "├─────────────────────────────────┼────────────────────────┼───────────────┤\n",
       "│ conv2d_8 (\u001b[38;5;33mConv2D\u001b[0m)               │ (\u001b[38;5;45mNone\u001b[0m, \u001b[38;5;34m6\u001b[0m, \u001b[38;5;34m6\u001b[0m, \u001b[38;5;34m512\u001b[0m)      │     \u001b[38;5;34m1,180,160\u001b[0m │\n",
       "├─────────────────────────────────┼────────────────────────┼───────────────┤\n",
       "│ conv2d_9 (\u001b[38;5;33mConv2D\u001b[0m)               │ (\u001b[38;5;45mNone\u001b[0m, \u001b[38;5;34m4\u001b[0m, \u001b[38;5;34m4\u001b[0m, \u001b[38;5;34m512\u001b[0m)      │     \u001b[38;5;34m2,359,808\u001b[0m │\n",
       "├─────────────────────────────────┼────────────────────────┼───────────────┤\n",
       "│ max_pooling2d_4 (\u001b[38;5;33mMaxPooling2D\u001b[0m)  │ (\u001b[38;5;45mNone\u001b[0m, \u001b[38;5;34m2\u001b[0m, \u001b[38;5;34m2\u001b[0m, \u001b[38;5;34m512\u001b[0m)      │             \u001b[38;5;34m0\u001b[0m │\n",
       "├─────────────────────────────────┼────────────────────────┼───────────────┤\n",
       "│ dropout (\u001b[38;5;33mDropout\u001b[0m)               │ (\u001b[38;5;45mNone\u001b[0m, \u001b[38;5;34m2\u001b[0m, \u001b[38;5;34m2\u001b[0m, \u001b[38;5;34m512\u001b[0m)      │             \u001b[38;5;34m0\u001b[0m │\n",
       "├─────────────────────────────────┼────────────────────────┼───────────────┤\n",
       "│ flatten (\u001b[38;5;33mFlatten\u001b[0m)               │ (\u001b[38;5;45mNone\u001b[0m, \u001b[38;5;34m2048\u001b[0m)           │             \u001b[38;5;34m0\u001b[0m │\n",
       "├─────────────────────────────────┼────────────────────────┼───────────────┤\n",
       "│ dense (\u001b[38;5;33mDense\u001b[0m)                   │ (\u001b[38;5;45mNone\u001b[0m, \u001b[38;5;34m1500\u001b[0m)           │     \u001b[38;5;34m3,073,500\u001b[0m │\n",
       "├─────────────────────────────────┼────────────────────────┼───────────────┤\n",
       "│ dropout_1 (\u001b[38;5;33mDropout\u001b[0m)             │ (\u001b[38;5;45mNone\u001b[0m, \u001b[38;5;34m1500\u001b[0m)           │             \u001b[38;5;34m0\u001b[0m │\n",
       "├─────────────────────────────────┼────────────────────────┼───────────────┤\n",
       "│ dense_1 (\u001b[38;5;33mDense\u001b[0m)                 │ (\u001b[38;5;45mNone\u001b[0m, \u001b[38;5;34m38\u001b[0m)             │        \u001b[38;5;34m57,038\u001b[0m │\n",
       "└─────────────────────────────────┴────────────────────────┴───────────────┘\n"
      ]
     },
     "metadata": {},
     "output_type": "display_data"
    },
    {
     "data": {
      "text/html": [
       "<pre style=\"white-space:pre;overflow-x:auto;line-height:normal;font-family:Menlo,'DejaVu Sans Mono',consolas,'Courier New',monospace\"><span style=\"font-weight: bold\"> Total params: </span><span style=\"color: #00af00; text-decoration-color: #00af00\">7,842,762</span> (29.92 MB)\n",
       "</pre>\n"
      ],
      "text/plain": [
       "\u001b[1m Total params: \u001b[0m\u001b[38;5;34m7,842,762\u001b[0m (29.92 MB)\n"
      ]
     },
     "metadata": {},
     "output_type": "display_data"
    },
    {
     "data": {
      "text/html": [
       "<pre style=\"white-space:pre;overflow-x:auto;line-height:normal;font-family:Menlo,'DejaVu Sans Mono',consolas,'Courier New',monospace\"><span style=\"font-weight: bold\"> Trainable params: </span><span style=\"color: #00af00; text-decoration-color: #00af00\">7,842,762</span> (29.92 MB)\n",
       "</pre>\n"
      ],
      "text/plain": [
       "\u001b[1m Trainable params: \u001b[0m\u001b[38;5;34m7,842,762\u001b[0m (29.92 MB)\n"
      ]
     },
     "metadata": {},
     "output_type": "display_data"
    },
    {
     "data": {
      "text/html": [
       "<pre style=\"white-space:pre;overflow-x:auto;line-height:normal;font-family:Menlo,'DejaVu Sans Mono',consolas,'Courier New',monospace\"><span style=\"font-weight: bold\"> Non-trainable params: </span><span style=\"color: #00af00; text-decoration-color: #00af00\">0</span> (0.00 B)\n",
       "</pre>\n"
      ],
      "text/plain": [
       "\u001b[1m Non-trainable params: \u001b[0m\u001b[38;5;34m0\u001b[0m (0.00 B)\n"
      ]
     },
     "metadata": {},
     "output_type": "display_data"
    }
   ],
   "source": [
    "model.summary()"
   ]
  },
  {
   "cell_type": "code",
   "execution_count": null,
   "id": "551e7dcc-784d-42c8-90f9-39d7b12972ff",
   "metadata": {},
   "outputs": [],
   "source": []
  },
  {
   "cell_type": "markdown",
   "id": "c5350075-d90b-42eb-958d-2bd8f8faa493",
   "metadata": {},
   "source": [
    "## Model Training"
   ]
  },
  {
   "cell_type": "code",
   "execution_count": 20,
   "id": "40b4bba8-1485-4130-a58e-8faef365935c",
   "metadata": {},
   "outputs": [
    {
     "name": "stdout",
     "output_type": "stream",
     "text": [
      "Epoch 1/3\n",
      "\u001b[1m2197/2197\u001b[0m \u001b[32m━━━━━━━━━━━━━━━━━━━━\u001b[0m\u001b[37m\u001b[0m \u001b[1m2844s\u001b[0m 1s/step - accuracy: 0.3714 - loss: 2.2304 - val_accuracy: 0.8288 - val_loss: 0.5458\n",
      "Epoch 2/3\n",
      "\u001b[1m2197/2197\u001b[0m \u001b[32m━━━━━━━━━━━━━━━━━━━━\u001b[0m\u001b[37m\u001b[0m \u001b[1m9751s\u001b[0m 4s/step - accuracy: 0.8377 - loss: 0.5063 - val_accuracy: 0.9091 - val_loss: 0.2915\n",
      "Epoch 3/3\n",
      "\u001b[1m2197/2197\u001b[0m \u001b[32m━━━━━━━━━━━━━━━━━━━━\u001b[0m\u001b[37m\u001b[0m \u001b[1m4654s\u001b[0m 2s/step - accuracy: 0.9069 - loss: 0.2864 - val_accuracy: 0.9221 - val_loss: 0.2429\n"
     ]
    }
   ],
   "source": [
    "training_history=model.fit(x=training_set,validation_data=validation_set, epochs=3)"
   ]
  },
  {
   "cell_type": "markdown",
   "id": "98c933ef-271c-4f4c-ad31-76693c191cb7",
   "metadata": {},
   "source": []
  },
  {
   "cell_type": "markdown",
   "id": "1bfebf3d-be22-4f66-ac3c-709bfd353180",
   "metadata": {},
   "source": [
    "## Model Evalution "
   ]
  },
  {
   "cell_type": "code",
   "execution_count": 21,
   "id": "41368643-0e63-4701-b662-dc908f31a118",
   "metadata": {},
   "outputs": [
    {
     "name": "stdout",
     "output_type": "stream",
     "text": [
      "\u001b[1m2197/2197\u001b[0m \u001b[32m━━━━━━━━━━━━━━━━━━━━\u001b[0m\u001b[37m\u001b[0m \u001b[1m1420s\u001b[0m 646ms/step - accuracy: 0.9421 - loss: 0.1824\n"
     ]
    }
   ],
   "source": [
    "train_loss,train_acc= model.evaluate(training_set)"
   ]
  },
  {
   "cell_type": "code",
   "execution_count": 22,
   "id": "83c720f6-e553-41a5-9186-e1912d1e7332",
   "metadata": {},
   "outputs": [
    {
     "name": "stdout",
     "output_type": "stream",
     "text": [
      "0.16462787985801697 0.94719398021698\n"
     ]
    }
   ],
   "source": [
    "print(train_loss,train_acc)"
   ]
  },
  {
   "cell_type": "code",
   "execution_count": 23,
   "id": "7189229a-601a-4826-b438-7907170957c0",
   "metadata": {},
   "outputs": [
    {
     "name": "stdout",
     "output_type": "stream",
     "text": [
      "\u001b[1m550/550\u001b[0m \u001b[32m━━━━━━━━━━━━━━━━━━━━\u001b[0m\u001b[37m\u001b[0m \u001b[1m269s\u001b[0m 487ms/step - accuracy: 0.9199 - loss: 0.2472\n"
     ]
    }
   ],
   "source": [
    "val_loss,val_acc= model.evaluate(validation_set)\n"
   ]
  },
  {
   "cell_type": "code",
   "execution_count": 24,
   "id": "b94750f3-871d-4f6e-9649-979e68680a10",
   "metadata": {},
   "outputs": [
    {
     "name": "stdout",
     "output_type": "stream",
     "text": [
      "0.2428874969482422 0.9220919609069824\n"
     ]
    }
   ],
   "source": [
    "print(val_loss,val_acc)"
   ]
  },
  {
   "cell_type": "markdown",
   "id": "f78e52f5-682a-459a-978b-03e6ac783a68",
   "metadata": {},
   "source": [
    "## saving model"
   ]
  },
  {
   "cell_type": "code",
   "execution_count": 26,
   "id": "7e60c895-ca2a-4b4f-9f54-cc858b3b3ecb",
   "metadata": {},
   "outputs": [],
   "source": [
    "model.save(\"trained_model.keras\")"
   ]
  },
  {
   "cell_type": "code",
   "execution_count": 27,
   "id": "6907ccdc-2793-4b42-8e22-b9ae42c94e29",
   "metadata": {},
   "outputs": [
    {
     "data": {
      "text/plain": [
       "{'accuracy': [0.5817625522613525, 0.8609716296195984, 0.9163667559623718],\n",
       " 'loss': [1.4198665618896484, 0.43399763107299805, 0.2567651569843292],\n",
       " 'val_accuracy': [0.8288185596466064, 0.9090598821640015, 0.9220919609069824],\n",
       " 'val_loss': [0.5457966327667236, 0.2914532423019409, 0.24288757145404816]}"
      ]
     },
     "execution_count": 27,
     "metadata": {},
     "output_type": "execute_result"
    }
   ],
   "source": [
    "training_history.history"
   ]
  },
  {
   "cell_type": "code",
   "execution_count": 28,
   "id": "fb1cf4f8-3183-4319-bdd3-722d25bfc952",
   "metadata": {},
   "outputs": [],
   "source": [
    "##Recording history"
   ]
  },
  {
   "cell_type": "code",
   "execution_count": 29,
   "id": "775691fa-471e-4909-b3b7-9b1d957e4b8e",
   "metadata": {},
   "outputs": [],
   "source": [
    "import json\n",
    "with open(\"training_hist.json\",\"w\") as f:\n",
    "    json.dump(training_history.history,f)"
   ]
  },
  {
   "cell_type": "markdown",
   "id": "33d15d38-aeaf-4951-afbf-652123e6b044",
   "metadata": {},
   "source": [
    "## Accuracy Visulization"
   ]
  },
  {
   "cell_type": "code",
   "execution_count": 30,
   "id": "4f90a8e8-bd29-4238-bc61-1fa03146c69a",
   "metadata": {},
   "outputs": [
    {
     "data": {
      "image/png": "[encoded data removed]",
      "text/plain": [
       "<Figure size 640x480 with 1 Axes>"
      ]
     },
     "metadata": {},
     "output_type": "display_data"
    }
   ],
   "source": [
    "epochs = [i for i in range(1,4)]\n",
    "plt.plot(epochs,training_history.history['accuracy'],color='red',label='Training_Accuracy')\n",
    "plt.plot(epochs,training_history.history['val_accuracy'],color='blue',label='Validation_Accuracy')\n",
    "plt.xlabel(\"No.of Epochs\")\n",
    "plt.ylabel(\"Accuracy Result\")\n",
    "plt.title(\"Visualization of Accuracy Result\")\n",
    "plt.legend()\n",
    "plt.show()"
   ]
  },
  {
   "cell_type": "markdown",
   "id": "751d9ffc-eab3-4c25-a178-391477628849",
   "metadata": {},
   "source": [
    "## some other metrices for model Evaluation"
   ]
  },
  {
   "cell_type": "code",
   "execution_count": 31,
   "id": "027429a6-6a66-4255-a819-88277cb39cb0",
   "metadata": {},
   "outputs": [
    {
     "data": {
      "text/plain": [
       "['Apple___Apple_scab',\n",
       " 'Apple___Black_rot',\n",
       " 'Apple___Cedar_apple_rust',\n",
       " 'Apple___healthy',\n",
       " 'Blueberry___healthy',\n",
       " 'Cherry_(including_sour)___Powdery_mildew',\n",
       " 'Cherry_(including_sour)___healthy',\n",
       " 'Corn_(maize)___Cercospora_leaf_spot Gray_leaf_spot',\n",
       " 'Corn_(maize)___Common_rust_',\n",
       " 'Corn_(maize)___Northern_Leaf_Blight',\n",
       " 'Corn_(maize)___healthy',\n",
       " 'Grape___Black_rot',\n",
       " 'Grape___Esca_(Black_Measles)',\n",
       " 'Grape___Leaf_blight_(Isariopsis_Leaf_Spot)',\n",
       " 'Grape___healthy',\n",
       " 'Orange___Haunglongbing_(Citrus_greening)',\n",
       " 'Peach___Bacterial_spot',\n",
       " 'Peach___healthy',\n",
       " 'Pepper,_bell___Bacterial_spot',\n",
       " 'Pepper,_bell___healthy',\n",
       " 'Potato___Early_blight',\n",
       " 'Potato___Late_blight',\n",
       " 'Potato___healthy',\n",
       " 'Raspberry___healthy',\n",
       " 'Soybean___healthy',\n",
       " 'Squash___Powdery_mildew',\n",
       " 'Strawberry___Leaf_scorch',\n",
       " 'Strawberry___healthy',\n",
       " 'Tomato___Bacterial_spot',\n",
       " 'Tomato___Early_blight',\n",
       " 'Tomato___Late_blight',\n",
       " 'Tomato___Leaf_Mold',\n",
       " 'Tomato___Septoria_leaf_spot',\n",
       " 'Tomato___Spider_mites Two-spotted_spider_mite',\n",
       " 'Tomato___Target_Spot',\n",
       " 'Tomato___Tomato_Yellow_Leaf_Curl_Virus',\n",
       " 'Tomato___Tomato_mosaic_virus',\n",
       " 'Tomato___healthy']"
      ]
     },
     "execution_count": 31,
     "metadata": {},
     "output_type": "execute_result"
    }
   ],
   "source": [
    "class_name = validation_set.class_names\n",
    "class_name"
   ]
  },
  {
   "cell_type": "code",
   "execution_count": 32,
   "id": "3ebd8e69-7b8e-4d3d-8c19-95bf42ef8506",
   "metadata": {},
   "outputs": [
    {
     "name": "stdout",
     "output_type": "stream",
     "text": [
      "Found 17572 files belonging to 38 classes.\n"
     ]
    }
   ],
   "source": [
    "test_set = tf.keras.utils.image_dataset_from_directory(\n",
    "    'valid',\n",
    "    labels=\"inferred\",\n",
    "    label_mode=\"categorical\",\n",
    "    class_names=None,\n",
    "    color_mode=\"rgb\",\n",
    "    batch_size=32,\n",
    "    image_size=(128, 128),\n",
    "    shuffle=False,\n",
    "    seed=None,\n",
    "    validation_split=None,\n",
    "    subset=None,\n",
    "    interpolation=\"bilinear\",\n",
    "    follow_links=False,\n",
    "    crop_to_aspect_ratio=False,\n",
    "   \n",
    ")"
   ]
  },
  {
   "cell_type": "code",
   "execution_count": 33,
   "id": "97494357-e524-48f1-82ee-b58c960a15ae",
   "metadata": {},
   "outputs": [
    {
     "name": "stdout",
     "output_type": "stream",
     "text": [
      "\u001b[1m550/550\u001b[0m \u001b[32m━━━━━━━━━━━━━━━━━━━━\u001b[0m\u001b[37m\u001b[0m \u001b[1m265s\u001b[0m 479ms/step\n"
     ]
    },
    {
     "data": {
      "text/plain": [
       "(array([[9.9699509e-01, 3.3566728e-04, 5.2395271e-06, ..., 2.0119197e-08,\n",
       "         1.1874026e-08, 6.1825318e-08],\n",
       "        [9.9792993e-01, 1.9448475e-03, 1.1218345e-06, ..., 5.6653954e-10,\n",
       "         3.7926298e-09, 3.4491887e-08],\n",
       "        [9.9994791e-01, 2.3944531e-06, 5.0449700e-07, ..., 2.7191414e-11,\n",
       "         5.2821483e-11, 1.3714035e-09],\n",
       "        ...,\n",
       "        [7.0032831e-07, 6.2262639e-09, 2.6848859e-06, ..., 8.2870004e-09,\n",
       "         4.7059130e-09, 9.9959570e-01],\n",
       "        [4.7656980e-05, 3.2302651e-07, 1.1335071e-05, ..., 8.1677433e-07,\n",
       "         9.0048400e-07, 9.9793112e-01],\n",
       "        [1.7583726e-08, 9.0139379e-10, 8.2385099e-10, ..., 4.0816558e-11,\n",
       "         3.1422152e-09, 9.9998558e-01]], dtype=float32),\n",
       " (17572, 38))"
      ]
     },
     "execution_count": 33,
     "metadata": {},
     "output_type": "execute_result"
    }
   ],
   "source": [
    "y_pred = model.predict(test_set)\n",
    "y_pred,y_pred.shape"
   ]
  },
  {
   "cell_type": "code",
   "execution_count": 34,
   "id": "112acf1a-1d17-461e-91da-9a4968a2420d",
   "metadata": {},
   "outputs": [
    {
     "data": {
      "text/plain": [
       "<tf.Tensor: shape=(17572,), dtype=int64, numpy=array([ 0,  0,  0, ..., 37, 37, 37], dtype=int64)>"
      ]
     },
     "execution_count": 34,
     "metadata": {},
     "output_type": "execute_result"
    }
   ],
   "source": [
    "predicted_categories = tf.argmax(y_pred,axis=1)\n",
    "predicted_categories"
   ]
  },
  {
   "cell_type": "code",
   "execution_count": 35,
   "id": "4c69e9f4-74ab-4752-9d39-7f0813592a43",
   "metadata": {},
   "outputs": [
    {
     "data": {
      "text/plain": [
       "<tf.Tensor: shape=(17572, 38), dtype=float32, numpy=\n",
       "array([[1., 0., 0., ..., 0., 0., 0.],\n",
       "       [1., 0., 0., ..., 0., 0., 0.],\n",
       "       [1., 0., 0., ..., 0., 0., 0.],\n",
       "       ...,\n",
       "       [0., 0., 0., ..., 0., 0., 1.],\n",
       "       [0., 0., 0., ..., 0., 0., 1.],\n",
       "       [0., 0., 0., ..., 0., 0., 1.]], dtype=float32)>"
      ]
     },
     "execution_count": 35,
     "metadata": {},
     "output_type": "execute_result"
    }
   ],
   "source": [
    "true_categories = tf.concat([y for x,y in test_set],axis=0)\n",
    "true_categories"
   ]
  },
  {
   "cell_type": "code",
   "execution_count": 36,
   "id": "c47a2042-ee8b-474e-961a-521d1270d1fc",
   "metadata": {},
   "outputs": [
    {
     "data": {
      "text/plain": [
       "<tf.Tensor: shape=(17572,), dtype=int64, numpy=array([ 0,  0,  0, ..., 37, 37, 37], dtype=int64)>"
      ]
     },
     "execution_count": 36,
     "metadata": {},
     "output_type": "execute_result"
    }
   ],
   "source": [
    "Y_true = tf.argmax(true_categories,axis=1)\n",
    "Y_true"
   ]
  },
  {
   "cell_type": "code",
   "execution_count": 37,
   "id": "83f59383-547a-4f17-acc7-d17d7a5e166e",
   "metadata": {},
   "outputs": [],
   "source": [
    "from sklearn.metrics import classification_report,confusion_matrix"
   ]
  },
  {
   "cell_type": "code",
   "execution_count": 38,
   "id": "5eae301a-2329-4481-860b-27a63244d41f",
   "metadata": {},
   "outputs": [
    {
     "name": "stdout",
     "output_type": "stream",
     "text": [
      "                                                    precision    recall  f1-score   support\n",
      "\n",
      "                                Apple___Apple_scab       0.96      0.82      0.89       504\n",
      "                                 Apple___Black_rot       0.91      0.98      0.94       497\n",
      "                          Apple___Cedar_apple_rust       0.84      0.99      0.91       440\n",
      "                                   Apple___healthy       0.95      0.89      0.92       502\n",
      "                               Blueberry___healthy       0.91      0.97      0.94       454\n",
      "          Cherry_(including_sour)___Powdery_mildew       0.94      0.97      0.96       421\n",
      "                 Cherry_(including_sour)___healthy       0.96      0.98      0.97       456\n",
      "Corn_(maize)___Cercospora_leaf_spot Gray_leaf_spot       0.87      0.82      0.84       410\n",
      "                       Corn_(maize)___Common_rust_       0.98      0.99      0.98       477\n",
      "               Corn_(maize)___Northern_Leaf_Blight       0.80      0.98      0.88       477\n",
      "                            Corn_(maize)___healthy       1.00      0.98      0.99       465\n",
      "                                 Grape___Black_rot       0.94      0.96      0.95       472\n",
      "                      Grape___Esca_(Black_Measles)       0.99      0.96      0.97       480\n",
      "        Grape___Leaf_blight_(Isariopsis_Leaf_Spot)       1.00      0.93      0.97       430\n",
      "                                   Grape___healthy       0.91      1.00      0.95       423\n",
      "          Orange___Haunglongbing_(Citrus_greening)       0.92      0.98      0.95       503\n",
      "                            Peach___Bacterial_spot       0.86      0.93      0.90       459\n",
      "                                   Peach___healthy       0.96      0.96      0.96       432\n",
      "                     Pepper,_bell___Bacterial_spot       0.98      0.77      0.86       478\n",
      "                            Pepper,_bell___healthy       0.94      0.91      0.93       497\n",
      "                             Potato___Early_blight       0.96      0.98      0.97       485\n",
      "                              Potato___Late_blight       0.95      0.87      0.91       485\n",
      "                                  Potato___healthy       0.97      0.90      0.93       456\n",
      "                               Raspberry___healthy       0.97      0.98      0.97       445\n",
      "                                 Soybean___healthy       0.96      0.97      0.97       505\n",
      "                           Squash___Powdery_mildew       0.97      0.96      0.97       434\n",
      "                          Strawberry___Leaf_scorch       0.98      0.91      0.95       444\n",
      "                              Strawberry___healthy       1.00      0.97      0.98       456\n",
      "                           Tomato___Bacterial_spot       0.80      0.97      0.88       425\n",
      "                             Tomato___Early_blight       0.68      0.88      0.76       480\n",
      "                              Tomato___Late_blight       0.86      0.85      0.85       463\n",
      "                                Tomato___Leaf_Mold       0.88      0.94      0.91       470\n",
      "                       Tomato___Septoria_leaf_spot       0.91      0.72      0.80       436\n",
      "     Tomato___Spider_mites Two-spotted_spider_mite       0.87      0.93      0.90       435\n",
      "                              Tomato___Target_Spot       0.96      0.54      0.69       457\n",
      "            Tomato___Tomato_Yellow_Leaf_Curl_Virus       0.94      0.99      0.96       490\n",
      "                      Tomato___Tomato_mosaic_virus       0.95      0.98      0.97       448\n",
      "                                  Tomato___healthy       0.98      0.96      0.97       481\n",
      "\n",
      "                                          accuracy                           0.92     17572\n",
      "                                         macro avg       0.93      0.92      0.92     17572\n",
      "                                      weighted avg       0.93      0.92      0.92     17572\n",
      "\n"
     ]
    }
   ],
   "source": [
    "print(classification_report(Y_true, predicted_categories, target_names=class_name))"
   ]
  },
  {
   "cell_type": "code",
   "execution_count": 39,
   "id": "d58dc16d-6b7f-4c59-927c-b13a5237c6ae",
   "metadata": {},
   "outputs": [
    {
     "data": {
      "text/plain": [
       "array([[414,  15,  10, ...,   0,   0,   0],\n",
       "       [  0, 485,   1, ...,   0,   0,   0],\n",
       "       [  0,   0, 435, ...,   0,   0,   0],\n",
       "       ...,\n",
       "       [  0,   0,   0, ..., 483,   0,   0],\n",
       "       [  0,   0,   0, ...,   0, 439,   0],\n",
       "       [  3,   0,   2, ...,   0,   1, 460]], dtype=int64)"
      ]
     },
     "execution_count": 39,
     "metadata": {},
     "output_type": "execute_result"
    }
   ],
   "source": [
    "cm = confusion_matrix(Y_true,predicted_categories )\n",
    "cm.shape\n",
    "cm"
   ]
  },
  {
   "cell_type": "markdown",
   "id": "23366b78-be5c-47c6-8acd-9c2127ac5934",
   "metadata": {},
   "source": [
    "## Confusion Matrix visualizaion"
   ]
  },
  {
   "cell_type": "code",
   "execution_count": 41,
   "id": "3e0d02a1-848f-4c23-bc0e-c72fa3d022c5",
   "metadata": {},
   "outputs": [
    {
     "data": {
      "image/png": "[encoded data removed]",
      "text/plain": [
       "<Figure size 4000x4000 with 2 Axes>"
      ]
     },
     "metadata": {},
     "output_type": "display_data"
    }
   ],
   "source": [
    "plt.figure(figsize=(40,40))\n",
    "sns.heatmap(cm,annot=True,annot_kws={'size':8})\n",
    "plt.xlabel(\"Pridicted class\",fontsize=20)\n",
    "plt.ylabel(\"Actual class\",fontsize=20)\n",
    "plt.title(\"Confusion Matrix\",fontsize=50)\n",
    "plt.show()"
   ]
  },
  {
   "cell_type": "code",
   "execution_count": null,
   "id": "783bc798-0e92-4b9e-878a-7fd82e6ad4af",
   "metadata": {},
   "outputs": [],
   "source": []
  }
 ],
 "metadata": {
  "kernelspec": {
   "display_name": "Python 3 (ipykernel)",
   "language": "python",
   "name": "python3"
  },
  "language_info": {
   "codemirror_mode": {
    "name": "ipython",
    "version": 3
   },
   "file_extension": ".py",
   "mimetype": "text/x-python",
   "name": "python",
   "nbconvert_exporter": "python",
   "pygments_lexer": "ipython3",
   "version": "3.11.7"
  }
 },
 "nbformat": 4,
 "nbformat_minor": 5
}
